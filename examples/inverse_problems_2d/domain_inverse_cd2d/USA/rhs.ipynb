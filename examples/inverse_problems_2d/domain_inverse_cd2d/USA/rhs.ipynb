{
 "cells": [
  {
   "cell_type": "code",
   "execution_count": null,
   "metadata": {},
   "outputs": [],
   "source": [
    "import numpy as np\n",
    "import sympy as sp\n",
    "\n",
    "x, y, u, eps = sp.symbols('x y u eps')\n",
    "\n",
    "# Define the function\n",
    "u =  sp.exp (-0.1 * y) * sp.cos (x)\n",
    "eps =  sp.cos(x*y) * sp.sin(x)\n",
    "# compute the gradients\n",
    "u_x = sp.diff(u, x)\n",
    "u_y = sp.diff(u, y)\n",
    "\n",
    "# Compute the laplacian\n",
    "# u_xx = d/dx(eps(du/dx))\n",
    "u_xx = sp.diff(eps*u_x, x)\n",
    "# u_yy = d/dy(eps(du/dy))\n",
    "u_yy = sp.diff(eps*u_y, y)\n",
    "\n",
    "# f = -div(eps grad(u))\n",
    "f = -u_xx - u_yy\n",
    "\n",
    "# simplyfy the expression\n",
    "f = sp.simplify(f)\n",
    "\n",
    "# lambda function for the function\n",
    "f_func = sp.lambdify((x, y), f, \"numpy\")\n",
    "\n",
    "\n",
    "\n",
    "import inspect\n",
    "\n",
    "# obtain the source code of the function\n",
    "source_code = inspect.getsource(f_func)\n",
    "\n",
    "# create a dictionary \n",
    "\n",
    "replace_dict = {\"exp\": \"np.exp\", \"cos\": \"np.cos\", \"sin\": \"np.sin\", \"sqrt\": \"np.sqrt\", \"log\": \"np.log\"}\n",
    "\n",
    "# replace the keys with the values in the source code\n",
    "for key, value in replace_dict.items():\n",
    "    source_code = source_code.replace(key, value)\n",
    "\n",
    "# print the source code\n",
    "print(source_code)\n"
   ]
  },
  {
   "cell_type": "code",
   "execution_count": null,
   "metadata": {},
   "outputs": [],
   "source": [
    "x = np.linspace(-1, 1, 100)\n",
    "y = np.linspace(-1, 1, 100)\n",
    "\n",
    "X, Y = np.meshgrid(x, y)\n",
    "\n",
    "U = np.cos(X*Y) * np.sin(X)\n",
    "\n",
    "plt.contourf(X, Y, U)\n",
    "plt.colorbar()\n",
    "plt.show()"
   ]
  },
  {
   "cell_type": "code",
   "execution_count": null,
   "metadata": {},
   "outputs": [],
   "source": []
  }
 ],
 "metadata": {
  "language_info": {
   "name": "python"
  }
 },
 "nbformat": 4,
 "nbformat_minor": 2
}
