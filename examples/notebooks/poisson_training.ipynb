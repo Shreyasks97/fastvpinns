{
 "cells": [
  {
   "cell_type": "markdown",
   "metadata": {},
   "source": [
    "<link rel=\"preconnect\" href=\"https://fonts.googleapis.com\">\n",
    "<link rel=\"preconnect\" href=\"https://fonts.gstatic.com\" crossorigin>\n",
    "<link href=\"https://fonts.googleapis.com/css2?family=Nunito+Sans&family=Quicksand&display=swap\" rel=\"stylesheet\">\n",
    "<link rel=\"stylesheet\" href=\"https://cdnjs.cloudflare.com/ajax/libs/font-awesome/6.0.0/css/all.min.css\">\n",
    "\n",
    "\n",
    "# FastVPINNs - Training Tutorial - Poisson Problem\n",
    "---\n",
    "\n",
    "In this notebook, we will try to understand, how to write FastVPINNs using Custom loss functions and custom neural networks. \n",
    "\n",
    "</div> \n",
    "\n",
    "Author : Thivin Anandh [Linkedin](https://linkedin.com/in/thivinanandh) [GitHub](https://github.com/thivinanandh) [Portfolio](https://thivinanandh.github.io) \n",
    "\n",
    "with Divij Ghose [Linkedin](https://www.linkedin.com/in/divij-ghose/) [GitHub](https://github.com/divijghose) [Website](https://divijghose.github.io)\n",
    "\n",
    "Paper: [FastVPINNs: Tensor-driven acceleration of VPINNs for complex geometries](https://arxiv.org/abs/2404.12063)\n",
    "\n",
    "For opening this notebook in google colab, please click on the button below.<br />\n",
    "<br />\n",
    "<a href=\"https://colab.research.google.com/github/cmgcds/fastvpinns/blob/main/examples/notebooks/poisson_training.ipynb\" target=\"_parent\"><img src=\"https://colab.research.google.com/assets/colab-badge.svg\" alt=\"Open In Colab\"/></a>\n",
    "\n",
    "\n",
    "</div>\n"
   ]
  },
  {
   "cell_type": "markdown",
   "metadata": {},
   "source": [
    "## Installing FastVPINNs\n",
    "---\n",
    "\n",
    "\n",
    "To install FastVPINNs, you can use the following command.\n",
    "\n",
    "```bash\n",
    "pip install fastvpinns\n",
    "```\n",
    "\n",
    "For more information, please visit the Documentation [here](https://cmgcds.github.io/fastvpinns/)"
   ]
  },
  {
   "cell_type": "code",
   "execution_count": null,
   "metadata": {},
   "outputs": [],
   "source": [
    "!pip install fastvpinns\n",
    "!apt-get update\n",
    "!apt-get install -y libglu1-mesa"
   ]
  },
  {
   "cell_type": "markdown",
   "metadata": {},
   "source": [
    "## hp-Variational Physics-Informed Neural Networks (hp-VPINNs)\n",
    "---\n",
    "\n",
    "Variational Physics-Informed Neural Networks (VPINNs) are a special class of Physics-Informed Neural Networks (PINNs) that are trained using the variational formulation of the governing equations. Variational formulation us used in conventional numerical methods like Finite Element Method (FEM) to solve Partial Differential Equations (PDEs).  hp-VPINNs are a special class of VPINNs that uses the concepts of hp-FEM such as h- and p-refinement to improve the accuracy of the solution. h-refinement is the process of refining the mesh size, whereas p-refinement is the process of increasing the order of the basis functions. For more information, please refer the paper by Kharazmi et al. (2021) [here](https://www.sciencedirect.com/science/article/abs/pii/S0045782520307325).\n",
    "\n",
    "\n"
   ]
  },
  {
   "cell_type": "markdown",
   "metadata": {},
   "source": [
    "## Mathematical Formulation\n",
    "---\n",
    "\n",
    "Lets consider the 2D Poisson equation as an example. The Poisson equation is given by\n",
    "\n",
    "$$\n",
    "\\nabla^2 u = f\n",
    "$$\n",
    "\n",
    "where $u$ is the solution, $f$ is the source term and $\\nabla^2$ is the Laplacian operator. Now, in order to get the weak form of the Poisson equation, we multiply the equation by a test function $v$ and integrate over the domain $\\Omega$.\n",
    "\n",
    "$$\n",
    "\\int_{\\Omega} \\nabla^2 u v \\, dx = \\int_{\\Omega} f v \\, dx\n",
    "$$\n",
    "\n",
    "Now, lets apply integration by parts to the left hand side of the equation to get the weak form of the Poisson equation.\n",
    "\n",
    "$$\n",
    "\\int_{\\Omega} \\nabla^2 u v \\, dx = -\\int_{\\Omega} \\nabla u \\cdot \\nabla v \\, dx + \\int_{\\partial \\Omega} \\nabla u \\cdot n v \\, ds\n",
    "$$\n",
    "\n",
    "where $n$ is the normal vector to the boundary $\\partial \\Omega$.  The function $v$ is choosen such that $v = 0$ on the boundary $\\partial \\Omega$. Therefore, the boundary integral term becomes zero. Hence, the weak form of the Poisson equation is given by\n",
    "\n",
    "$$\n",
    "\n",
    "\\int_{\\Omega} \\nabla u \\cdot \\nabla v \\, dx = \\int_{\\Omega} f v \\, dx\n",
    "$$\n",
    "\n",
    "Now, we can write the above equation in the variational form as\n",
    "\n",
    "$$\n",
    "\\int_{\\Omega} \\nabla u \\cdot \\nabla v \\, dx - \\int_{\\Omega} f v \\, dx = 0\n",
    "$$\n",
    "\n",
    "with the dirichlet boundary condition $u = g$ on the boundary $\\partial \\Omega$. "
   ]
  },
  {
   "cell_type": "markdown",
   "metadata": {},
   "source": [
    "## Imports\n",
    "---\n",
    "\n",
    "Lets import the necessary functions for this tutorial from the FastVPINNs library.\n"
   ]
  },
  {
   "cell_type": "code",
   "execution_count": 1,
   "metadata": {},
   "outputs": [],
   "source": [
    "# Common library imports \n",
    "import numpy as np\n",
    "import pandas as pd\n",
    "import matplotlib.pyplot as plt\n",
    "from pathlib import Path\n",
    "import tensorflow as tf\n",
    "import time\n",
    "from tqdm import tqdm\n",
    "\n",
    "# Fastvpinns Modules\n",
    "from fastvpinns.Geometry.geometry_2d import Geometry_2D\n",
    "from fastvpinns.FE.fespace2d import Fespace2D\n",
    "from fastvpinns.data.datahandler2d import DataHandler2D\n"
   ]
  },
  {
   "cell_type": "markdown",
   "metadata": {},
   "source": [
    "## Setting up Problem Parameters\n",
    "---\n",
    "\n",
    "In this section, we will setup all the parameters related to the Poisson problem such as Geometries, Test Function spaces, Neural Network Architectures, Learning Rates Etc\n",
    "\n",
    "For Additional information on all Parameters , please refer the documentation [here](https://cmgcds.github.io/fastvpinns/)\n",
    "\n",
    "### Geometry Parameters\n",
    "\n",
    "- i_mesh_type : Type of mesh elements\n",
    "- i_mesh_generation_method:  Internal mesh generation or external mesh\n",
    "- i_n_test_points_x: Number of test points in x direction\n",
    "- i_n_test_points_y: Number of test points in y direction\n",
    "- i_output_path: Output path for the results\n",
    "- i_x_min: Minimum value of x\n",
    "- i_x_max: Maximum value of x\n",
    "- i_y_min: Minimum value of y\n",
    "- i_y_max: Maximum value of y\n",
    "- i_n_cells_x: Number of cells in x direction\n",
    "- i_n_cells_y: Number of cells in y direction\n",
    "- i_n_boundary_points: Number of boundary points\n",
    "\n",
    "### Finite Element Parameters\n",
    "\n",
    "- i_fe_order: Order of the finite element basis functions\n",
    "- i_fe_type: Type of the finite element basis functions\n",
    "- i_quad_order: Order of the quadrature rule\n",
    "- i_quad_type: Name of the quadrature rule\n",
    "- i_fe_transform: Bilinear or Affine transformation\n",
    "  \n",
    "### Neural Network Parameters\n",
    "\n",
    "- i_learning_rate_dict: Dictionary containing the learning rates for the neural networks\n",
    "- i_data_type: Data type float32 or float64\n",
    "- i_activation: Activation function for the neural networks\n"
   ]
  },
  {
   "cell_type": "code",
   "execution_count": null,
   "metadata": {},
   "outputs": [],
   "source": [
    "i_mesh_type = \"quadrilateral\" # \"quadrilateral\"\n",
    "i_mesh_generation_method = \"internal\" # \"internal\" or \"external\"\n",
    "i_x_min = 0 # minimum x value\n",
    "i_x_max = 1 # maximum x value\n",
    "i_y_min = 0 # minimum y value\n",
    "i_y_max = 1 # maximum y value\n",
    "i_n_cells_x = 2 # Number of cells in the x direction\n",
    "i_n_cells_y = 2 # Number of cells in the y direction\n",
    "i_n_boundary_points = 400 # Number of points on the boundary\n",
    "i_output_path = \"output/poisson_2d\" # Output path\n",
    "\n",
    "i_n_test_points_x = 100 # Number of test points in the x direction\n",
    "i_n_test_points_y = 100 # Number of test points in the y direction\n",
    "\n",
    "# FE Variables\n",
    "i_fe_order = 6 # Order of the finite element space\n",
    "i_fe_type = \"legendre\"\n",
    "i_quad_order = 10 # 10 points in 1D, so 100 points in 2D for one cell\n",
    "i_quad_type = \"gauss-jacobi\"\n",
    "\n",
    "# Neural Network Variables\n",
    "i_learning_rate_dict = {\n",
    "    \"initial_learning_rate\" : 0.001, # Initial learning rate\n",
    "    \"use_lr_scheduler\" : False, # Use learning rate scheduler\n",
    "    \"decay_steps\": 1000, # Decay steps\n",
    "    \"decay_rate\": 0.96, # Decay rate\n",
    "    \"staircase\": True, # Staircase Decay\n",
    "}\n",
    "\n",
    "i_dtype = tf.float32\n",
    "i_activation = \"tanh\"\n",
    "i_beta = 10 # Boundary Loss Penalty ( Adds more weight to the boundary loss)\n",
    "\n",
    "# Epochs\n",
    "i_num_epochs = 20000"
   ]
  },
  {
   "cell_type": "markdown",
   "metadata": {},
   "source": [
    "## Setting up Boundary Conditions and Boundary Values \n",
    "---\n",
    "\n",
    "\n",
    "In this section, we will setup the boundary conditions and boundary values for the Poisson problem. lets take an example, where the exact solution of the problem is given by\n",
    "\n",
    "$$\n",
    "u(x,y) =-1.0 \\sin(2.0  \\pi x) \\sin(2.0 \\pi y)\n",
    "$$ \n",
    "\n",
    "The values of $u$ will be $0$ on the boundary $\\partial \\Omega$. The source term $f$  ( from method of manufactured solutions) is given by\n",
    "\n",
    "$$\n",
    "f(x,y) = -2(2.0\\pi)^2 \\sin(2.0\\pi x) \\sin(2.0\\pi y)\n",
    "$$\n",
    "\n",
    "As per internal mesh generation, the boundary points are generated automatically.Further, the bottom boundary is assigned a tag of 1000, right boundary is assigned a tag of 1001, top boundary is assigned a tag of 1002 and left boundary is assigned a tag of 1003. The boundary conditions are given as follows\n",
    "\n",
    "\n",
    "Currently, this library supports only Dirichlet Boundary Conditions. the Development branches of these versions have Neumann Boundary Conditions."
   ]
  },
  {
   "cell_type": "code",
   "execution_count": null,
   "metadata": {},
   "outputs": [],
   "source": [
    "\n",
    "\n",
    "def left_boundary(x, y):\n",
    "    \"\"\"\n",
    "    This function will return the boundary value for given component of a boundary\n",
    "    \"\"\"\n",
    "    val = 0.0\n",
    "    return np.ones_like(x) * val\n",
    "\n",
    "\n",
    "def right_boundary(x, y):\n",
    "    \"\"\"\n",
    "    This function will return the boundary value for given component of a boundary\n",
    "    \"\"\"\n",
    "    val = 0.0\n",
    "    return np.ones_like(x) * val\n",
    "\n",
    "\n",
    "def top_boundary(x, y):\n",
    "    \"\"\"\n",
    "    This function will return the boundary value for given component of a boundary\n",
    "    \"\"\"\n",
    "    val = 0.0\n",
    "    return np.ones_like(x) * val\n",
    "\n",
    "\n",
    "def bottom_boundary(x, y):\n",
    "    \"\"\"\n",
    "    This function will return the boundary value for given component of a boundary\n",
    "    \"\"\"\n",
    "    val = 0.0\n",
    "    return np.ones_like(x) * val\n",
    "\n",
    "\n",
    "def rhs(x, y):\n",
    "    \"\"\"\n",
    "    This function will return the value of the rhs at a given point\n",
    "    \"\"\"\n",
    "    omegaX = 2.0 * np.pi\n",
    "    omegaY = 2.0 * np.pi\n",
    "    f_temp = -2.0 * (omegaX**2) * (np.sin(omegaX * x) * np.sin(omegaY * y))\n",
    "\n",
    "    return f_temp\n",
    "\n",
    "\n",
    "def exact_solution(x, y):\n",
    "    \"\"\"\n",
    "    This function will return the exact solution at a given point\n",
    "    \"\"\"\n",
    "    # If the exact Solution does not have an analytical expression, leave the value as 0(zero)\n",
    "    # it can be set using `np.ones_like(x) * 0.0` and then ignore the errors and the error plots generated.\n",
    "\n",
    "    omegaX = 2.0 * np.pi\n",
    "    omegaY = 2.0 * np.pi\n",
    "    val = -1.0 * np.sin(omegaX * x) * np.sin(omegaY * y)\n",
    "\n",
    "    return val\n",
    "\n",
    "\n",
    "def get_boundary_function_dict():\n",
    "    \"\"\"\n",
    "    This function will return a dictionary of boundary functions\n",
    "    \"\"\"\n",
    "    return {1000: bottom_boundary, 1001: right_boundary, 1002: top_boundary, 1003: left_boundary}\n",
    "\n",
    "\n",
    "def get_bound_cond_dict():\n",
    "    \"\"\"\n",
    "    This function will return a dictionary of boundary conditions\n",
    "    \"\"\"\n",
    "    return {1000: \"dirichlet\", 1001: \"dirichlet\", 1002: \"dirichlet\", 1003: \"dirichlet\"}\n",
    "\n",
    "\n",
    "def get_bilinear_params_dict():\n",
    "    \"\"\"\n",
    "    This function will return a dictionary of bilinear parameters\n",
    "    \"\"\"\n",
    "    eps = 1.0\n",
    "\n",
    "    return {\"eps\": eps}\n"
   ]
  },
  {
   "cell_type": "markdown",
   "metadata": {},
   "source": [
    "### Create an Output Folder\n",
    "---"
   ]
  },
  {
   "cell_type": "code",
   "execution_count": 4,
   "metadata": {},
   "outputs": [],
   "source": [
    "## CREATE OUTPUT FOLDER\n",
    "# use pathlib to create the folder,if it does not exist\n",
    "folder = Path(i_output_path)\n",
    "# create the folder if it does not exist\n",
    "if not folder.exists():\n",
    "    folder.mkdir(parents=True, exist_ok=True)"
   ]
  },
  {
   "cell_type": "markdown",
   "metadata": {},
   "source": [
    "### Obtain the Boundary conditions and Boundary values\n"
   ]
  },
  {
   "cell_type": "code",
   "execution_count": 5,
   "metadata": {},
   "outputs": [],
   "source": [
    "# get the boundary function dictionary from example file\n",
    "bound_function_dict, bound_condition_dict = get_boundary_function_dict(), get_bound_cond_dict()\n",
    "\n"
   ]
  },
  {
   "cell_type": "markdown",
   "metadata": {},
   "source": [
    "### Generate internal mesh\n",
    "\n",
    "\n",
    "This calls the geometry module to generate the internal mesh and set up all cell and boundary information."
   ]
  },
  {
   "cell_type": "code",
   "execution_count": 6,
   "metadata": {},
   "outputs": [
    {
     "name": "stdout",
     "output_type": "stream",
     "text": [
      "Info    : Meshing 1D...\n",
      "Info    : [  0%] Meshing curve 1000 (Line)\n",
      "Info    : [ 30%] Meshing curve 1001 (Line)\n",
      "Info    : [ 50%] Meshing curve 1002 (Line)\n",
      "Info    : [ 80%] Meshing curve 1003 (Line)\n",
      "Info    : Done meshing 1D (Wall 0.000868167s, CPU 0.0007s)\n",
      "Info    : Meshing 2D...\n",
      "Info    : Meshing surface 1 (Plane, Frontal-Delaunay)\n",
      "Info    : Done meshing 2D (Wall 0.355005s, CPU 0.346038s)\n",
      "Info    : Meshing 3D...\n",
      "Info    : Done meshing 3D (Wall 0.000222417s, CPU 0.00016s)\n",
      "Info    : 11833 nodes 23668 elements\n",
      "Info    : Writing 'output/poisson_2d/internal.msh'...\n",
      "[INFO] : Internal mesh file generated at  output/poisson_2d/internal.msh\n",
      "Info    : Done writing 'output/poisson_2d/internal.msh'\n"
     ]
    },
    {
     "data": {
      "text/html": [
       "<pre style=\"white-space:pre;overflow-x:auto;line-height:normal;font-family:Menlo,'DejaVu Sans Mono',consolas,'Courier New',monospace\"><span style=\"color: #808000; text-decoration-color: #808000; font-weight: bold\">Warning:</span><span style=\"color: #808000; text-decoration-color: #808000\"> VTK requires 3D vectors, but 2D vectors given. Appending </span><span style=\"color: #808000; text-decoration-color: #808000; font-weight: bold\">0</span><span style=\"color: #808000; text-decoration-color: #808000\"> third component to gmsh:dim_tags.</span>\n",
       "</pre>\n"
      ],
      "text/plain": [
       "\u001b[1;33mWarning:\u001b[0m\u001b[33m VTK requires 3D vectors, but 2D vectors given. Appending \u001b[0m\u001b[1;33m0\u001b[0m\u001b[33m third component to gmsh:dim_tags.\u001b[0m\n"
      ]
     },
     "metadata": {},
     "output_type": "display_data"
    },
    {
     "data": {
      "text/html": [
       "<pre style=\"white-space:pre;overflow-x:auto;line-height:normal;font-family:Menlo,'DejaVu Sans Mono',consolas,'Courier New',monospace\"><span style=\"color: #808000; text-decoration-color: #808000; font-weight: bold\">Warning:</span><span style=\"color: #808000; text-decoration-color: #808000\"> VTK ASCII files are only meant for debugging.</span>\n",
       "</pre>\n"
      ],
      "text/plain": [
       "\u001b[1;33mWarning:\u001b[0m\u001b[33m VTK ASCII files are only meant for debugging.\u001b[0m\n"
      ]
     },
     "metadata": {},
     "output_type": "display_data"
    },
    {
     "name": "stdout",
     "output_type": "stream",
     "text": [
      "[INFO] : VTK file for internal mesh file generated at  output/poisson_2d/internal.msh\n"
     ]
    }
   ],
   "source": [
    "# Initiate a Geometry_2D object\n",
    "domain = Geometry_2D(\n",
    "    i_mesh_type, i_mesh_generation_method, i_n_test_points_x, i_n_test_points_y, i_output_path\n",
    ")\n",
    "\n",
    "# load the mesh\n",
    "cells, boundary_points = domain.generate_quad_mesh_internal(\n",
    "    x_limits=[i_x_min, i_x_max],\n",
    "    y_limits=[i_y_min, i_y_max],\n",
    "    n_cells_x=i_n_cells_x,\n",
    "    n_cells_y=i_n_cells_y,\n",
    "    num_boundary_points=i_n_boundary_points,\n",
    ")"
   ]
  },
  {
   "cell_type": "markdown",
   "metadata": {},
   "source": [
    "### Generate FE Space\n",
    "\n",
    "\n",
    "This module is the core module of the library. It generates the finite element space and sets up the basis functions and quadrature rules. It preassembles the test function matrices for each cell and assigns boundary values to the boundary points."
   ]
  },
  {
   "cell_type": "code",
   "execution_count": null,
   "metadata": {},
   "outputs": [],
   "source": [
    "fespace = Fespace2D(\n",
    "        mesh=domain.mesh,\n",
    "        cells=cells,\n",
    "        boundary_points=boundary_points,\n",
    "        cell_type=domain.mesh_type,\n",
    "        fe_order=i_fe_order,\n",
    "        fe_type=i_fe_type,\n",
    "        quad_order=i_quad_order,\n",
    "        quad_type=i_quad_type,\n",
    "        fe_transformation_type=\"bilinear\",\n",
    "        bound_function_dict=bound_function_dict,\n",
    "        bound_condition_dict=bound_condition_dict,\n",
    "        forcing_function=rhs,\n",
    "        output_path=i_output_path,\n",
    "        generate_mesh_plot=True,\n",
    "    )"
   ]
  },
  {
   "cell_type": "markdown",
   "metadata": {},
   "source": [
    "### Datahandler\n",
    "\n",
    "This module is used to convert the data into tensorflow datasets. It also contains functions which assemble the test function and other values into tensor format, which will be used for training\n"
   ]
  },
  {
   "cell_type": "code",
   "execution_count": 8,
   "metadata": {},
   "outputs": [],
   "source": [
    "# instantiate data handler\n",
    "datahandler = DataHandler2D(fespace, domain, dtype=i_dtype)\n",
    "\n",
    "params_dict = {}\n",
    "params_dict['n_cells'] = fespace.n_cells"
   ]
  },
  {
   "cell_type": "markdown",
   "metadata": {},
   "source": [
    "## Model \n",
    "---\n",
    "\n",
    "In this section, we will use the neural Network module available within the FastVPINNs library to create and train the neural networks. They can be imported from the \"model\" module of fastvpinns. \n",
    "\n",
    "```python\n",
    "fastvpinns.model.model import DenseModel\n",
    "```\n",
    "\n",
    "### Loss Function\n",
    "---\n",
    "\n",
    "The tensor based variational loss formulation for most of scalar problems can be imported from \"physics\" modules.\n",
    "\n",
    "```python\n",
    "from fastvpinns.physics.poisson2d import pde_loss_poisson\n",
    "```\n",
    "\n"
   ]
  },
  {
   "cell_type": "code",
   "execution_count": 9,
   "metadata": {},
   "outputs": [
    {
     "name": "stderr",
     "output_type": "stream",
     "text": [
      "WARNING:absl:At this time, the v2.11+ optimizer `tf.keras.optimizers.Adam` runs slowly on M1/M2 Macs, please use the legacy Keras optimizer instead, located at `tf.keras.optimizers.legacy.Adam`.\n",
      "WARNING:absl:There is a known slowdown when using v2.11+ Keras optimizers on M1/M2 Macs. Falling back to the legacy Keras optimizer, i.e., `tf.keras.optimizers.legacy.Adam`.\n"
     ]
    },
    {
     "name": "stdout",
     "output_type": "stream",
     "text": [
      "[INFO] : Total number of Dirichlet boundary points = 400\n",
      "[INFO] : Shape of Dirichlet-X = (400, 2)\n",
      "[INFO] : Shape of Y = (400, 1, 1)\n",
      "--------------------------------------------------------------------------\n",
      "| PARAMETER                 | SHAPE                     |\n",
      "--------------------------------------------------------------------------\n",
      "| input_tensor              | (1600, 2)                 | <dtype: 'float32'>\n",
      "| force_matrix              | (36, 16)                  | <dtype: 'float32'>\n",
      "| pre_multiplier_grad_x     | (16, 36, 100)             | <dtype: 'float32'>\n",
      "| pre_multiplier_grad_y     | (16, 36, 100)             | <dtype: 'float32'>\n",
      "| pre_multiplier_val        | (16, 36, 100)             | <dtype: 'float32'>\n",
      "| dirichlet_input           | (400, 2)                  | <dtype: 'float32'>\n",
      "| dirichlet_actual          | (400, 1)                  | <dtype: 'float32'>\n",
      "--------------------------------------------------------------------------\n",
      "Model: \"dense_model\"\n",
      "_________________________________________________________________\n",
      " Layer (type)                Output Shape              Param #   \n",
      "=================================================================\n",
      " dense (Dense)               multiple                  90        \n",
      "                                                                 \n",
      " dense_1 (Dense)             multiple                  930       \n",
      "                                                                 \n",
      " dense_2 (Dense)             multiple                  930       \n",
      "                                                                 \n",
      " dense_3 (Dense)             multiple                  31        \n",
      "                                                                 \n",
      "=================================================================\n",
      "Total params: 1981 (7.74 KB)\n",
      "Trainable params: 1981 (7.74 KB)\n",
      "Non-trainable params: 0 (0.00 Byte)\n",
      "_________________________________________________________________\n"
     ]
    }
   ],
   "source": [
    "from fastvpinns.model.model import DenseModel\n",
    "from fastvpinns.physics.poisson2d import pde_loss_poisson\n",
    "\n",
    "params_dict = {}\n",
    "params_dict['n_cells'] = fespace.n_cells\n",
    "\n",
    "# get the input data for the PDE\n",
    "train_dirichlet_input, train_dirichlet_output = datahandler.get_dirichlet_input()\n",
    "\n",
    "# get bilinear parameters\n",
    "# this function will obtain the values of the bilinear parameters from the model\n",
    "# and convert them into tensors of desired dtype\n",
    "bilinear_params_dict = datahandler.get_bilinear_params_dict_as_tensors(get_bilinear_params_dict)\n",
    "\n",
    "model = DenseModel(\n",
    "    layer_dims=[2, 30, 30, 30, 1],\n",
    "    learning_rate_dict=i_learning_rate_dict,\n",
    "    params_dict=params_dict,\n",
    "    loss_function=pde_loss_poisson,\n",
    "    input_tensors_list=[datahandler.x_pde_list, train_dirichlet_input, train_dirichlet_output],\n",
    "    orig_factor_matrices=[\n",
    "        datahandler.shape_val_mat_list,\n",
    "        datahandler.grad_x_mat_list,\n",
    "        datahandler.grad_y_mat_list,\n",
    "    ],\n",
    "    force_function_list=datahandler.forcing_function_list,\n",
    "    tensor_dtype=i_dtype,\n",
    "    activation=i_activation,\n",
    ")"
   ]
  },
  {
   "cell_type": "markdown",
   "metadata": {},
   "source": [
    "## Train the model\n",
    "---\n",
    "\n",
    "Now, we will train the model to solve the Poisson problem using the custom loss function and custom neural network model."
   ]
  },
  {
   "cell_type": "code",
   "execution_count": null,
   "metadata": {},
   "outputs": [],
   "source": [
    "loss_array = []  # total loss\n",
    "time_array = []  # time taken for each epoch\n",
    "\n",
    "\n",
    "for epoch in tqdm(range(i_num_epochs)):\n",
    "        # Train the model\n",
    "        batch_start_time = time.time()\n",
    "        loss = model.train_step(beta=i_beta, bilinear_params_dict=bilinear_params_dict)\n",
    "        elapsed = time.time() - batch_start_time\n",
    "\n",
    "        # print(elapsed)\n",
    "        time_array.append(elapsed)\n",
    "\n",
    "        loss_array.append(loss['loss'])"
   ]
  },
  {
   "cell_type": "markdown",
   "metadata": {},
   "source": [
    "## Visualise loss and Results\n",
    "---\n"
   ]
  },
  {
   "cell_type": "code",
   "execution_count": null,
   "metadata": {},
   "outputs": [],
   "source": [
    "# predict the values for the test points\n",
    "test_points = domain.get_test_points()\n",
    "print(f\"[bold]Number of Test Points = [/bold] {test_points.shape[0]}\")\n",
    "y_exact = exact_solution(test_points[:, 0], test_points[:, 1])\n",
    "\n",
    "# Get predicted values from the model\n",
    "y_pred = model(test_points).numpy()\n",
    "y_pred = y_pred.reshape(-1)\n",
    "\n",
    "# compute the error\n",
    "error = np.abs(y_exact - y_pred)\n",
    "\n",
    "# plot a 2x2 Grid, loss plot, exact solution, predicted solution and error\n",
    "fig, axs = plt.subplots(2, 2, figsize=(10, 8))\n",
    "\n",
    "# loss plot\n",
    "axs[0, 0].plot(loss_array)\n",
    "axs[0, 0].set_title(\"Loss Plot\")\n",
    "axs[0, 0].set_xlabel(\"Epochs\")\n",
    "axs[0, 0].set_ylabel(\"Loss\")\n",
    "axs[0, 0].set_yscale(\"log\")\n",
    "\n",
    "# exact solution\n",
    "# contour plot of the exact solution\n",
    "axs[0, 1].tricontourf(test_points[:, 0], test_points[:, 1], y_exact, 100)\n",
    "axs[0, 1].set_title(\"Exact Solution\")\n",
    "axs[0, 1].set_xlabel(\"x\")\n",
    "axs[0, 1].set_ylabel(\"y\")\n",
    "# add colorbar\n",
    "cbar = plt.colorbar(axs[0, 1].collections[0], ax=axs[0, 1])\n",
    "\n",
    "\n",
    "# predicted solution\n",
    "# contour plot of the predicted solution\n",
    "axs[1, 0].tricontourf(test_points[:, 0], test_points[:, 1], y_pred, 100)\n",
    "axs[1, 0].set_title(\"Predicted Solution\")\n",
    "axs[1, 0].set_xlabel(\"x\")\n",
    "axs[1, 0].set_ylabel(\"y\")\n",
    "# add colorbar\n",
    "cbar = plt.colorbar(axs[1, 0].collections[0], ax=axs[1, 0])\n",
    "\n",
    "# error plot\n",
    "# contour plot of the error\n",
    "axs[1, 1].tricontourf(test_points[:, 0], test_points[:, 1], error, 100)\n",
    "axs[1, 1].set_title(\"Error\")\n",
    "axs[1, 1].set_xlabel(\"x\")\n",
    "axs[1, 1].set_ylabel(\"y\")\n",
    "# add colorbar\n",
    "cbar = plt.colorbar(axs[1, 1].collections[0], ax=axs[1, 1])\n",
    "\n",
    "\n",
    "plt.tight_layout()\n",
    "\n",
    "\n",
    "# print error statistics\n",
    "l2_error = np.sqrt(np.mean(error ** 2))\n",
    "l1_error = np.mean(np.abs(error))\n",
    "l_inf_error = np.max(np.abs(error))\n",
    "rel_l2_error = l2_error / np.sqrt(np.mean(y_exact ** 2))\n",
    "rel_l1_error = l1_error / np.mean(np.abs(y_exact))\n",
    "rel_l_inf_error = l_inf_error / np.max(np.abs(y_exact))\n",
    "\n",
    "# print the error statistics in a formatted table\n",
    "error_df = pd.DataFrame(\n",
    "    {\n",
    "        \"L2 Error\": [l2_error],\n",
    "        \"L1 Error\": [l1_error],\n",
    "        \"L_inf Error\": [l_inf_error],\n",
    "        \"Relative L2 Error\": [rel_l2_error],\n",
    "        \"Relative L1 Error\": [rel_l1_error],\n",
    "        \"Relative L_inf Error\": [rel_l_inf_error],\n",
    "    }\n",
    ")\n",
    "print(error_df)\n",
    "\n"
   ]
  },
  {
   "cell_type": "code",
   "execution_count": null,
   "metadata": {},
   "outputs": [],
   "source": []
  }
 ],
 "metadata": {
  "kernelspec": {
   "display_name": "fastvpinns",
   "language": "python",
   "name": "python3"
  },
  "language_info": {
   "codemirror_mode": {
    "name": "ipython",
    "version": 3
   },
   "file_extension": ".py",
   "mimetype": "text/x-python",
   "name": "python",
   "nbconvert_exporter": "python",
   "pygments_lexer": "ipython3",
   "version": "3.9.2"
  }
 },
 "nbformat": 4,
 "nbformat_minor": 2
}
